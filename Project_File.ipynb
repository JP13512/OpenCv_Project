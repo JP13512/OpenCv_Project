{
 "cells": [
  {
   "cell_type": "code",
   "execution_count": 3,
   "metadata": {},
   "outputs": [
    {
     "ename": "error",
     "evalue": "OpenCV(4.6.0) D:\\a\\opencv-python\\opencv-python\\opencv\\modules\\imgproc\\src\\resize.cpp:4052: error: (-215:Assertion failed) !ssize.empty() in function 'cv::resize'\n",
     "output_type": "error",
     "traceback": [
      "\u001b[1;31m---------------------------------------------------------------------------\u001b[0m",
      "\u001b[1;31merror\u001b[0m                                     Traceback (most recent call last)",
      "\u001b[1;32m<ipython-input-3-bfe0de1976b2>\u001b[0m in \u001b[0;36m<module>\u001b[1;34m\u001b[0m\n\u001b[0;32m     23\u001b[0m \u001b[1;32mwhile\u001b[0m \u001b[1;32mTrue\u001b[0m\u001b[1;33m:\u001b[0m\u001b[1;33m\u001b[0m\u001b[1;33m\u001b[0m\u001b[0m\n\u001b[0;32m     24\u001b[0m     \u001b[0mres\u001b[0m\u001b[1;33m,\u001b[0m \u001b[0mframe\u001b[0m \u001b[1;33m=\u001b[0m \u001b[0mvideo\u001b[0m\u001b[1;33m.\u001b[0m\u001b[0mread\u001b[0m\u001b[1;33m(\u001b[0m\u001b[1;33m)\u001b[0m\u001b[1;33m\u001b[0m\u001b[1;33m\u001b[0m\u001b[0m\n\u001b[1;32m---> 25\u001b[1;33m     \u001b[0mframe\u001b[0m \u001b[1;33m=\u001b[0m \u001b[0mcv\u001b[0m\u001b[1;33m.\u001b[0m\u001b[0mresize\u001b[0m\u001b[1;33m(\u001b[0m\u001b[0mframe\u001b[0m\u001b[1;33m,\u001b[0m \u001b[1;33m(\u001b[0m\u001b[1;36m640\u001b[0m\u001b[1;33m,\u001b[0m \u001b[1;36m400\u001b[0m\u001b[1;33m)\u001b[0m\u001b[1;33m)\u001b[0m\u001b[1;33m\u001b[0m\u001b[1;33m\u001b[0m\u001b[0m\n\u001b[0m\u001b[0;32m     26\u001b[0m     \u001b[0mimage\u001b[0m \u001b[1;33m=\u001b[0m \u001b[0mcv\u001b[0m\u001b[1;33m.\u001b[0m\u001b[0mresize\u001b[0m\u001b[1;33m(\u001b[0m\u001b[0mimage\u001b[0m\u001b[1;33m,\u001b[0m \u001b[1;33m(\u001b[0m\u001b[1;36m640\u001b[0m\u001b[1;33m,\u001b[0m \u001b[1;36m400\u001b[0m\u001b[1;33m)\u001b[0m\u001b[1;33m)\u001b[0m\u001b[1;33m\u001b[0m\u001b[1;33m\u001b[0m\u001b[0m\n\u001b[0;32m     27\u001b[0m     \u001b[0mhsv\u001b[0m \u001b[1;33m=\u001b[0m \u001b[0mcv\u001b[0m\u001b[1;33m.\u001b[0m\u001b[0mcvtColor\u001b[0m\u001b[1;33m(\u001b[0m\u001b[0mframe\u001b[0m\u001b[1;33m,\u001b[0m \u001b[0mcv\u001b[0m\u001b[1;33m.\u001b[0m\u001b[0mCOLOR_BGR2HSV\u001b[0m\u001b[1;33m)\u001b[0m\u001b[1;33m\u001b[0m\u001b[1;33m\u001b[0m\u001b[0m\n",
      "\u001b[1;31merror\u001b[0m: OpenCV(4.6.0) D:\\a\\opencv-python\\opencv-python\\opencv\\modules\\imgproc\\src\\resize.cpp:4052: error: (-215:Assertion failed) !ssize.empty() in function 'cv::resize'\n"
     ]
    }
   ],
   "source": [
    "# Import Libraries\n",
    "import cv2 as cv\n",
    "import numpy as np\n",
    "\n",
    "# Video Capture\n",
    "video = cv.VideoCapture(\"video.mp4\")\n",
    "image = cv.imread('R.jpg')\n",
    "\n",
    "# Setting Trackbars\n",
    "def nothing(self):\n",
    "    pass\n",
    "\n",
    "cv.namedWindow('Trackbars')\n",
    "cv.resizeWindow('Trackbars', 300, 300)\n",
    "cv.createTrackbar(\"L-H\", \"Trackbars\", 30, 179, nothing)\n",
    "cv.createTrackbar(\"L-S\", \"Trackbars\", 96, 255, nothing)\n",
    "cv.createTrackbar(\"L-V\", \"Trackbars\", 183, 255, nothing)\n",
    "cv.createTrackbar(\"H-H\", \"Trackbars\", 179, 179, nothing)\n",
    "cv.createTrackbar(\"H-S\", \"Trackbars\", 255, 255, nothing)\n",
    "cv.createTrackbar(\"H-V\", \"Trackbars\", 255, 255, nothing)\n",
    "\n",
    "# loop\n",
    "while True:\n",
    "    res, frame = video.read()\n",
    "    frame = cv.resize(frame, (640, 400))\n",
    "    image = cv.resize(image, (640, 400))\n",
    "    hsv = cv.cvtColor(frame, cv.COLOR_BGR2HSV)\n",
    "    \n",
    "    # Range of green color\n",
    "    # by Trackbars\n",
    "    l_h = cv.getTrackbarPos(\"L-H\", \"Trackbars\")\n",
    "    l_s = cv.getTrackbarPos(\"L-S\", \"Trackbars\")\n",
    "    l_v = cv.getTrackbarPos(\"L-V\", \"Trackbars\")\n",
    "    h_h = cv.getTrackbarPos(\"H-H\", \"Trackbars\")\n",
    "    h_s = cv.getTrackbarPos(\"H-S\", \"Trackbars\")\n",
    "    h_v = cv.getTrackbarPos(\"H-V\", \"Trackbars\")\n",
    "\n",
    "    # Variability\n",
    "    lower_v = np.array([l_h, l_s, l_v])\n",
    "    higher_v = np.array([h_h, h_s, h_v])\n",
    "\n",
    "    # Lower and upper values of green color\n",
    "    # lower_v = np.array([30, 96, 173])\n",
    "    # higher_v = np.array([179, 255, 255])\n",
    "    \n",
    "    mask = cv.inRange(hsv, lower_v, higher_v)\n",
    "    \n",
    "    resultant = cv.bitwise_and(frame,frame, mask=mask)\n",
    "    \n",
    "    cv.imshow('Video',frame)\n",
    "    green_screen = np.where(frame-resultant==0, image, frame-resultant)\n",
    "    cv.imshow('Resultant', green_screen)\n",
    "\n",
    "    k = cv.waitKey(1)\n",
    "    if k == ord('q'):\n",
    "        break\n",
    "\n",
    "video.release()\n",
    "cv.destroyAllWindows()\n"
   ]
  },
  {
   "cell_type": "code",
   "execution_count": null,
   "metadata": {},
   "outputs": [],
   "source": []
  }
 ],
 "metadata": {
  "kernelspec": {
   "display_name": "Python 3.8.8 ('base')",
   "language": "python",
   "name": "python3"
  },
  "language_info": {
   "codemirror_mode": {
    "name": "ipython",
    "version": 3
   },
   "file_extension": ".py",
   "mimetype": "text/x-python",
   "name": "python",
   "nbconvert_exporter": "python",
   "pygments_lexer": "ipython3",
   "version": "3.8.8"
  },
  "orig_nbformat": 4,
  "vscode": {
   "interpreter": {
    "hash": "ad2bdc8ecc057115af97d19610ffacc2b4e99fae6737bb82f5d7fb13d2f2c186"
   }
  }
 },
 "nbformat": 4,
 "nbformat_minor": 2
}
